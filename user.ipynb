{
 "cells": [
  {
   "cell_type": "code",
   "execution_count": 7,
   "metadata": {},
   "outputs": [],
   "source": [
    "import pandas as pd\n",
    "import sqlite3"
   ]
  },
  {
   "cell_type": "code",
   "execution_count": 8,
   "metadata": {},
   "outputs": [],
   "source": [
    "con = sqlite3.connect('./fishing.db')"
   ]
  },
  {
   "cell_type": "code",
   "execution_count": 9,
   "metadata": {},
   "outputs": [],
   "source": [
    "df = pd.read_sql('SELECT * FROM users',con)"
   ]
  },
  {
   "cell_type": "code",
   "execution_count": 10,
   "metadata": {},
   "outputs": [
    {
     "name": "stdout",
     "output_type": "stream",
     "text": [
      "   username                                           password          name  \\\n",
      "0  captain1  ecd71870d1963316a97e3ac3408c9835ad8cf0f3c1bc70...        홍길동 선장   \n",
      "1  captain2  ecd71870d1963316a97e3ac3408c9835ad8cf0f3c1bc70...           김선장   \n",
      "2    hahaha  03ac674216f3e15c761ee1a5e255f067953623c8b388b4...     whdnsjfnd   \n",
      "3   hahaha1  03ac674216f3e15c761ee1a5e255f067953623c8b388b4...  dhfjfhsdefes   \n",
      "4      nana  03ac674216f3e15c761ee1a5e255f067953623c8b388b4...           나선장   \n",
      "\n",
      "   is_captain           created_at  \n",
      "0           1  2025-02-18 08:58:00  \n",
      "1           1  2025-02-18 08:58:00  \n",
      "2           0  2025-02-18 08:58:00  \n",
      "3           0  2025-02-18 09:01:26  \n",
      "4           1  2025-02-18 09:11:46  \n"
     ]
    }
   ],
   "source": [
    "print(df)"
   ]
  },
  {
   "cell_type": "code",
   "execution_count": 11,
   "metadata": {},
   "outputs": [],
   "source": [
    "ds = pd.read_sql('SELECT * FROM boats',con)"
   ]
  },
  {
   "cell_type": "code",
   "execution_count": 12,
   "metadata": {},
   "outputs": [
    {
     "name": "stdout",
     "output_type": "stream",
     "text": [
      "   id  name  description                                      fishInfo  \\\n",
      "0   1   행복호     제주 우럭 전문        우럭, 감성돔, 돌돔을 주로 낚시합니다. 우럭 조황이 가장 좋습니다.   \n",
      "1   2  돌고래호     서해 광어 전문  광어, 우럭, 농어를 주로 낚시합니다. 광어 포인트를 가장 많이 알고 있습니다.   \n",
      "2   3   푸앙호  음료수 , 간식 제공                                광어 90% 이상 잘 잡힘   \n",
      "\n",
      "  captain_username  capacity           created_at  \n",
      "0         captain1         8  2025-02-18 08:58:00  \n",
      "1         captain2        12  2025-02-18 08:58:00  \n",
      "2             nana         4  2025-02-18 09:12:41  \n"
     ]
    }
   ],
   "source": [
    "print(ds)"
   ]
  },
  {
   "cell_type": "markdown",
   "metadata": {},
   "source": []
  }
 ],
 "metadata": {
  "kernelspec": {
   "display_name": "streamlit_env",
   "language": "python",
   "name": "python3"
  },
  "language_info": {
   "codemirror_mode": {
    "name": "ipython",
    "version": 3
   },
   "file_extension": ".py",
   "mimetype": "text/x-python",
   "name": "python",
   "nbconvert_exporter": "python",
   "pygments_lexer": "ipython3",
   "version": "3.9.21"
  }
 },
 "nbformat": 4,
 "nbformat_minor": 2
}
