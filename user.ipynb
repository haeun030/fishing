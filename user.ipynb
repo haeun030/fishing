{
 "cells": [
  {
   "cell_type": "code",
   "execution_count": 13,
   "metadata": {},
   "outputs": [],
   "source": [
    "import pandas as pd\n",
    "import sqlite3"
   ]
  },
  {
   "cell_type": "code",
   "execution_count": 14,
   "metadata": {},
   "outputs": [],
   "source": [
    "con = sqlite3.connect('./fishing.db')"
   ]
  },
  {
   "cell_type": "code",
   "execution_count": 15,
   "metadata": {},
   "outputs": [],
   "source": [
    "df = pd.read_sql('SELECT * FROM users',con)"
   ]
  },
  {
   "cell_type": "code",
   "execution_count": 16,
   "metadata": {},
   "outputs": [
    {
     "name": "stdout",
     "output_type": "stream",
     "text": [
      "   username                                           password         name  \\\n",
      "0    hahaha  03ac674216f3e15c761ee1a5e255f067953623c8b388b4...   ergergserg   \n",
      "1   fhafsdf  61c05cb67eefb96fc829b1374dd2c00f4bccdf392d59b1...    ghdfghsif   \n",
      "2     dfsfj  9a3c94c1745cbefa70f8b0a8a870043bb18bd154f5cfea...           당근   \n",
      "3  eejnfgse  9556b60be242c2aa8ce55d3c9c54f24d0b1be436e2bd99...         dgsd   \n",
      "4   hahaha2  d508c7a089e24c61f8e7031428b8f28f217885e992c84e...  fhfafuahfsf   \n",
      "\n",
      "            created_at  \n",
      "0  2025-02-14 12:12:18  \n",
      "1  2025-02-14 16:36:12  \n",
      "2  2025-02-14 16:39:40  \n",
      "3  2025-02-14 16:40:22  \n",
      "4  2025-02-14 17:24:10  \n"
     ]
    }
   ],
   "source": [
    "print(df)"
   ]
  },
  {
   "cell_type": "markdown",
   "metadata": {},
   "source": []
  }
 ],
 "metadata": {
  "kernelspec": {
   "display_name": "streamlit_env",
   "language": "python",
   "name": "python3"
  },
  "language_info": {
   "codemirror_mode": {
    "name": "ipython",
    "version": 3
   },
   "file_extension": ".py",
   "mimetype": "text/x-python",
   "name": "python",
   "nbconvert_exporter": "python",
   "pygments_lexer": "ipython3",
   "version": "3.9.21"
  }
 },
 "nbformat": 4,
 "nbformat_minor": 2
}
